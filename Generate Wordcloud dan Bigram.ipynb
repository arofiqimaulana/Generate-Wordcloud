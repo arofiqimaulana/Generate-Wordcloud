{
 "cells": [
  {
   "cell_type": "code",
   "execution_count": 3,
   "metadata": {},
   "outputs": [],
   "source": [
    "import pandas as pd\n",
    "import requests\n",
    "import pymysql\n",
    "import pandas as pd\n",
    "import seaborn as sns\n",
    "import matplotlib.pyplot as plt\n",
    "import re\n",
    "from datetime import datetime, timedelta, date, timezone \n",
    "from wordcloud import WordCloud, STOPWORDS, ImageColorGenerator"
   ]
  },
  {
   "cell_type": "code",
   "execution_count": 20,
   "metadata": {},
   "outputs": [],
   "source": [
    "stopword =['saya','dan','yang','di','jagoan','hosting','untuk','karena','ingin',\n",
    "           'dengan','magang','dalam','dapat','ini','perusahaan','dari','juga','bidang',\n",
    "          'merupakan|','sangat','tempat','lebih','tertarik','sebagai','bisa','menjadi',\n",
    "          'dunia','memiliki','adalah','banyak','hosting.','itu','akan','hal','selain','serta',\n",
    "          'baik','satu','sehingga','bagi','sudah','salah','jagoanhosting','oleh','menurut','tentang',\n",
    "          'merasa','secara','ada','pada','bahwa','cukup','saat','tidak','jadi','ini','merupakan','sesuai',\n",
    "          'mendapatkan','apalagi','ini','untuk','yg']"
   ]
  },
  {
   "cell_type": "markdown",
   "metadata": {},
   "source": [
    "# Get Dataset"
   ]
  },
  {
   "cell_type": "code",
   "execution_count": 21,
   "metadata": {},
   "outputs": [],
   "source": [
    "df = pd.read_csv('dataset_tweet_sentimen_tayangan_tv.csv')"
   ]
  },
  {
   "cell_type": "code",
   "execution_count": 22,
   "metadata": {},
   "outputs": [
    {
     "data": {
      "text/html": [
       "<div>\n",
       "<style scoped>\n",
       "    .dataframe tbody tr th:only-of-type {\n",
       "        vertical-align: middle;\n",
       "    }\n",
       "\n",
       "    .dataframe tbody tr th {\n",
       "        vertical-align: top;\n",
       "    }\n",
       "\n",
       "    .dataframe thead th {\n",
       "        text-align: right;\n",
       "    }\n",
       "</style>\n",
       "<table border=\"1\" class=\"dataframe\">\n",
       "  <thead>\n",
       "    <tr style=\"text-align: right;\">\n",
       "      <th></th>\n",
       "      <th>Id</th>\n",
       "      <th>Sentiment</th>\n",
       "      <th>Acara TV</th>\n",
       "      <th>Jumlah Retweet</th>\n",
       "      <th>Text Tweet</th>\n",
       "    </tr>\n",
       "  </thead>\n",
       "  <tbody>\n",
       "    <tr>\n",
       "      <th>0</th>\n",
       "      <td>1</td>\n",
       "      <td>positive</td>\n",
       "      <td>HitamPutihTransTV</td>\n",
       "      <td>12</td>\n",
       "      <td>Undang @N_ShaniJKT48 ke hitamputih, pemenang S...</td>\n",
       "    </tr>\n",
       "    <tr>\n",
       "      <th>1</th>\n",
       "      <td>2</td>\n",
       "      <td>positive</td>\n",
       "      <td>HitamPutihTransTV</td>\n",
       "      <td>6</td>\n",
       "      <td>Selamat berbuka puasa Semoga amal ibadah hari ...</td>\n",
       "    </tr>\n",
       "    <tr>\n",
       "      <th>2</th>\n",
       "      <td>3</td>\n",
       "      <td>positive</td>\n",
       "      <td>HitamPutihTransTV</td>\n",
       "      <td>9</td>\n",
       "      <td>Ada nih di trans7 hitam putih, dia dpt penghar...</td>\n",
       "    </tr>\n",
       "    <tr>\n",
       "      <th>3</th>\n",
       "      <td>4</td>\n",
       "      <td>positive</td>\n",
       "      <td>HitamPutihTransTV</td>\n",
       "      <td>2</td>\n",
       "      <td>selamat ya mas @adietaufan masuk hitamputih</td>\n",
       "    </tr>\n",
       "    <tr>\n",
       "      <th>4</th>\n",
       "      <td>5</td>\n",
       "      <td>positive</td>\n",
       "      <td>HitamPutihTransTV</td>\n",
       "      <td>1</td>\n",
       "      <td>Asiknya nonton Hitam Putih Trans7</td>\n",
       "    </tr>\n",
       "    <tr>\n",
       "      <th>...</th>\n",
       "      <td>...</td>\n",
       "      <td>...</td>\n",
       "      <td>...</td>\n",
       "      <td>...</td>\n",
       "      <td>...</td>\n",
       "    </tr>\n",
       "    <tr>\n",
       "      <th>395</th>\n",
       "      <td>396</td>\n",
       "      <td>negative</td>\n",
       "      <td>MataNajwaMetroTV</td>\n",
       "      <td>0</td>\n",
       "      <td>ini apa banget deh gw paling kesel klo orang2 ...</td>\n",
       "    </tr>\n",
       "    <tr>\n",
       "      <th>396</th>\n",
       "      <td>397</td>\n",
       "      <td>negative</td>\n",
       "      <td>MataNajwaMetroTV</td>\n",
       "      <td>0</td>\n",
       "      <td>Orang miskin semakin miskin klo sekolah melaku...</td>\n",
       "    </tr>\n",
       "    <tr>\n",
       "      <th>397</th>\n",
       "      <td>398</td>\n",
       "      <td>negative</td>\n",
       "      <td>MataNajwaMetroTV</td>\n",
       "      <td>0</td>\n",
       "      <td>ga boLeh emosi, cepat tua, nonton #matanajwame...</td>\n",
       "    </tr>\n",
       "    <tr>\n",
       "      <th>398</th>\n",
       "      <td>399</td>\n",
       "      <td>negative</td>\n",
       "      <td>MataNajwaMetroTV</td>\n",
       "      <td>0</td>\n",
       "      <td>dr penampilan saja kyk preman taunya bkin kisr...</td>\n",
       "    </tr>\n",
       "    <tr>\n",
       "      <th>399</th>\n",
       "      <td>400</td>\n",
       "      <td>negative</td>\n",
       "      <td>MataNajwaMetroTV</td>\n",
       "      <td>0</td>\n",
       "      <td>Jawab aja ga usah berbelit-belit. Muter2 ga je...</td>\n",
       "    </tr>\n",
       "  </tbody>\n",
       "</table>\n",
       "<p>400 rows × 5 columns</p>\n",
       "</div>"
      ],
      "text/plain": [
       "      Id Sentiment           Acara TV  Jumlah Retweet  \\\n",
       "0      1  positive  HitamPutihTransTV              12   \n",
       "1      2  positive  HitamPutihTransTV               6   \n",
       "2      3  positive  HitamPutihTransTV               9   \n",
       "3      4  positive  HitamPutihTransTV               2   \n",
       "4      5  positive  HitamPutihTransTV               1   \n",
       "..   ...       ...                ...             ...   \n",
       "395  396  negative   MataNajwaMetroTV               0   \n",
       "396  397  negative   MataNajwaMetroTV               0   \n",
       "397  398  negative   MataNajwaMetroTV               0   \n",
       "398  399  negative   MataNajwaMetroTV               0   \n",
       "399  400  negative   MataNajwaMetroTV               0   \n",
       "\n",
       "                                            Text Tweet  \n",
       "0    Undang @N_ShaniJKT48 ke hitamputih, pemenang S...  \n",
       "1    Selamat berbuka puasa Semoga amal ibadah hari ...  \n",
       "2    Ada nih di trans7 hitam putih, dia dpt penghar...  \n",
       "3          selamat ya mas @adietaufan masuk hitamputih  \n",
       "4                    Asiknya nonton Hitam Putih Trans7  \n",
       "..                                                 ...  \n",
       "395  ini apa banget deh gw paling kesel klo orang2 ...  \n",
       "396  Orang miskin semakin miskin klo sekolah melaku...  \n",
       "397  ga boLeh emosi, cepat tua, nonton #matanajwame...  \n",
       "398  dr penampilan saja kyk preman taunya bkin kisr...  \n",
       "399  Jawab aja ga usah berbelit-belit. Muter2 ga je...  \n",
       "\n",
       "[400 rows x 5 columns]"
      ]
     },
     "execution_count": 22,
     "metadata": {},
     "output_type": "execute_result"
    }
   ],
   "source": [
    "df"
   ]
  },
  {
   "cell_type": "code",
   "execution_count": 23,
   "metadata": {},
   "outputs": [],
   "source": [
    "tweet = list(df['Text Tweet'])"
   ]
  },
  {
   "cell_type": "code",
   "execution_count": 24,
   "metadata": {},
   "outputs": [],
   "source": [
    "\"\"\"\n",
    "Memecah string menjadi list\n",
    "\"\"\"\n",
    "ls_word = []\n",
    "for k in tweet:\n",
    "    try:\n",
    "        ls_word.append(k.split())\n",
    "    except:\n",
    "        pass"
   ]
  },
  {
   "cell_type": "code",
   "execution_count": 25,
   "metadata": {},
   "outputs": [],
   "source": [
    "\"\"\"\n",
    "Menggabungkan list menjadi satu\n",
    "\"\"\"\n",
    "rs = []\n",
    "for k in ls_word:\n",
    "    rs = rs + k"
   ]
  },
  {
   "cell_type": "code",
   "execution_count": 26,
   "metadata": {},
   "outputs": [],
   "source": [
    "rs_lower = [k.lower() for k in rs]\n",
    "rs_remove_characters = [re.sub(r'[^\\w]', '', k) for k in rs_lower]\n",
    "rs_remove_stopword = [k for k in rs_remove_characters if k not in stopword]"
   ]
  },
  {
   "cell_type": "code",
   "execution_count": 27,
   "metadata": {},
   "outputs": [],
   "source": [
    "ls_rs = pd.DataFrame(rs_remove_stopword).reset_index()\n",
    "ls_rs.columns = ['No','Word']"
   ]
  },
  {
   "cell_type": "code",
   "execution_count": 28,
   "metadata": {},
   "outputs": [],
   "source": [
    "df_Agg = ls_rs.groupby('Word').count().reset_index()\n",
    "df_Agg = df_Agg.sort_values('No',ascending=False)"
   ]
  },
  {
   "cell_type": "code",
   "execution_count": 29,
   "metadata": {},
   "outputs": [
    {
     "data": {
      "text/html": [
       "<div>\n",
       "<style scoped>\n",
       "    .dataframe tbody tr th:only-of-type {\n",
       "        vertical-align: middle;\n",
       "    }\n",
       "\n",
       "    .dataframe tbody tr th {\n",
       "        vertical-align: top;\n",
       "    }\n",
       "\n",
       "    .dataframe thead th {\n",
       "        text-align: right;\n",
       "    }\n",
       "</style>\n",
       "<table border=\"1\" class=\"dataframe\">\n",
       "  <thead>\n",
       "    <tr style=\"text-align: right;\">\n",
       "      <th></th>\n",
       "      <th>Word</th>\n",
       "      <th>No</th>\n",
       "    </tr>\n",
       "  </thead>\n",
       "  <tbody>\n",
       "    <tr>\n",
       "      <th>755</th>\n",
       "      <td>kickandy</td>\n",
       "      <td>71</td>\n",
       "    </tr>\n",
       "    <tr>\n",
       "      <th>881</th>\n",
       "      <td>mata</td>\n",
       "      <td>61</td>\n",
       "    </tr>\n",
       "    <tr>\n",
       "      <th>1069</th>\n",
       "      <td>najwa</td>\n",
       "      <td>60</td>\n",
       "    </tr>\n",
       "    <tr>\n",
       "      <th>561</th>\n",
       "      <td>ilc</td>\n",
       "      <td>53</td>\n",
       "    </tr>\n",
       "    <tr>\n",
       "      <th>564</th>\n",
       "      <td>ilctvone</td>\n",
       "      <td>46</td>\n",
       "    </tr>\n",
       "    <tr>\n",
       "      <th>884</th>\n",
       "      <td>matanajwametrotv</td>\n",
       "      <td>44</td>\n",
       "    </tr>\n",
       "    <tr>\n",
       "      <th>519</th>\n",
       "      <td>hitamputiht7</td>\n",
       "      <td>43</td>\n",
       "    </tr>\n",
       "    <tr>\n",
       "      <th>516</th>\n",
       "      <td>hitam</td>\n",
       "      <td>40</td>\n",
       "    </tr>\n",
       "    <tr>\n",
       "      <th>1291</th>\n",
       "      <td>putih</td>\n",
       "      <td>39</td>\n",
       "    </tr>\n",
       "    <tr>\n",
       "      <th>0</th>\n",
       "      <td></td>\n",
       "      <td>37</td>\n",
       "    </tr>\n",
       "    <tr>\n",
       "      <th>17</th>\n",
       "      <td>acara</td>\n",
       "      <td>31</td>\n",
       "    </tr>\n",
       "    <tr>\n",
       "      <th>730</th>\n",
       "      <td>keren</td>\n",
       "      <td>30</td>\n",
       "    </tr>\n",
       "    <tr>\n",
       "      <th>1111</th>\n",
       "      <td>nonton</td>\n",
       "      <td>29</td>\n",
       "    </tr>\n",
       "    <tr>\n",
       "      <th>1150</th>\n",
       "      <td>pak</td>\n",
       "      <td>29</td>\n",
       "    </tr>\n",
       "    <tr>\n",
       "      <th>440</th>\n",
       "      <td>ga</td>\n",
       "      <td>28</td>\n",
       "    </tr>\n",
       "  </tbody>\n",
       "</table>\n",
       "</div>"
      ],
      "text/plain": [
       "                  Word  No\n",
       "755           kickandy  71\n",
       "881               mata  61\n",
       "1069             najwa  60\n",
       "561                ilc  53\n",
       "564           ilctvone  46\n",
       "884   matanajwametrotv  44\n",
       "519       hitamputiht7  43\n",
       "516              hitam  40\n",
       "1291             putih  39\n",
       "0                       37\n",
       "17               acara  31\n",
       "730              keren  30\n",
       "1111            nonton  29\n",
       "1150               pak  29\n",
       "440                 ga  28"
      ]
     },
     "execution_count": 29,
     "metadata": {},
     "output_type": "execute_result"
    }
   ],
   "source": [
    "df_Agg.head(15)"
   ]
  },
  {
   "cell_type": "code",
   "execution_count": 30,
   "metadata": {},
   "outputs": [],
   "source": [
    "wc = WordCloud(background_color=\"white\", max_words=1000, contour_color='firebrick')\n",
    "text = \" \".join(k for k in rs_remove_stopword)"
   ]
  },
  {
   "cell_type": "code",
   "execution_count": 31,
   "metadata": {},
   "outputs": [
    {
     "data": {
      "image/png": "[encoded data removed]",
      "text/plain": [
       "<Figure size 432x288 with 1 Axes>"
      ]
     },
     "metadata": {
      "needs_background": "light"
     },
     "output_type": "display_data"
    }
   ],
   "source": [
    "\"\"\"\n",
    "Persepsi mereka tentang JH adalah tempat untuk mendapatkan pengalaman \"\"\"\n",
    "wordcloud = wc.generate(text)\n",
    "plt.figure()\n",
    "plt.imshow(wordcloud)\n",
    "plt.axis(\"off\")\n",
    "plt.show()"
   ]
  },
  {
   "cell_type": "markdown",
   "metadata": {},
   "source": [
    "## Sentiment Word"
   ]
  },
  {
   "cell_type": "code",
   "execution_count": 32,
   "metadata": {},
   "outputs": [],
   "source": [
    "sentiment_word = [\n",
    "    'bagus','achievement','penghargaan','top','besar','seru','menyenangkan',\n",
    "    'reputasi','bermanfaat','lama','muda','rekomendasi','potensi','ternama','profesional',\n",
    "    'keren','lucu','friendly','malang','flexibel','jarak','startup'\n",
    "]"
   ]
  },
  {
   "cell_type": "code",
   "execution_count": 33,
   "metadata": {},
   "outputs": [],
   "source": [
    "## Frunction for Matching exact word\n",
    "def getSentimentWord(text):\n",
    "    ls_split = text.lower()\n",
    "    ls_getWord = []\n",
    "    for j in sentiment_word:\n",
    "        res = re.findall('\\\\b'+j+'\\\\b', text, flags=re.IGNORECASE)\n",
    "        if len(res) > 0:\n",
    "            ls_getWord.append(res[0])\n",
    "    \n",
    "    ls_concat = \" \".join(ls_getWord)\n",
    "\n",
    "    return ls_concat"
   ]
  },
  {
   "cell_type": "code",
   "execution_count": 34,
   "metadata": {},
   "outputs": [],
   "source": [
    "## Matching exact word\n",
    "ls_extract_word = []\n",
    "for k in tweet:\n",
    "    try:\n",
    "        ls_extract_word.append(getSentimentWord(k))\n",
    "    except:\n",
    "        ls_extract_word.append('')\n",
    "        \n",
    "df_extract_word= pd.DataFrame(ls_extract_word)"
   ]
  },
  {
   "cell_type": "code",
   "execution_count": 36,
   "metadata": {},
   "outputs": [],
   "source": [
    "## Menambahkan kolom baru hasil sentiment dan memfilter row yang hanya ada isinya\n",
    "dfAll2 = df.copy()\n",
    "\n",
    "dfAll2['RS'] = df_extract_word\n",
    "dfAll2 = dfAll2.applymap(str)\n",
    "\n",
    "dfAllNull = dfAll2[dfAll2.RS=='']\n",
    "dfAllNotNull = dfAll2[dfAll2.RS!='']"
   ]
  },
  {
   "cell_type": "code",
   "execution_count": 37,
   "metadata": {},
   "outputs": [],
   "source": [
    "## Menggabubgkan menjadi satu paragraf\n",
    "ls_not_null = []\n",
    "for k in list(dfAllNotNull['RS']):\n",
    "    ls_not_null.append(k)\n",
    "\n",
    "str_not_null = \" \".join(ls_not_null)"
   ]
  },
  {
   "cell_type": "code",
   "execution_count": 39,
   "metadata": {},
   "outputs": [
    {
     "data": {
      "image/png": "[encoded data removed]",
      "text/plain": [
       "<Figure size 432x288 with 1 Axes>"
      ]
     },
     "metadata": {
      "needs_background": "light"
     },
     "output_type": "display_data"
    }
   ],
   "source": [
    "wordcloud = wc.generate(str_not_null)\n",
    "plt.figure()\n",
    "plt.imshow(wordcloud)\n",
    "plt.axis(\"off\")\n",
    "plt.show()"
   ]
  },
  {
   "cell_type": "code",
   "execution_count": 42,
   "metadata": {},
   "outputs": [
    {
     "data": {
      "text/html": [
       "<div>\n",
       "<style scoped>\n",
       "    .dataframe tbody tr th:only-of-type {\n",
       "        vertical-align: middle;\n",
       "    }\n",
       "\n",
       "    .dataframe tbody tr th {\n",
       "        vertical-align: top;\n",
       "    }\n",
       "\n",
       "    .dataframe thead th {\n",
       "        text-align: right;\n",
       "    }\n",
       "</style>\n",
       "<table border=\"1\" class=\"dataframe\">\n",
       "  <thead>\n",
       "    <tr style=\"text-align: right;\">\n",
       "      <th></th>\n",
       "      <th>Word</th>\n",
       "      <th>No</th>\n",
       "    </tr>\n",
       "  </thead>\n",
       "  <tbody>\n",
       "    <tr>\n",
       "      <th>4</th>\n",
       "      <td>keren</td>\n",
       "      <td>29</td>\n",
       "    </tr>\n",
       "    <tr>\n",
       "      <th>12</th>\n",
       "      <td>seru</td>\n",
       "      <td>11</td>\n",
       "    </tr>\n",
       "    <tr>\n",
       "      <th>0</th>\n",
       "      <td>bagus</td>\n",
       "      <td>4</td>\n",
       "    </tr>\n",
       "    <tr>\n",
       "      <th>6</th>\n",
       "      <td>lucu</td>\n",
       "      <td>4</td>\n",
       "    </tr>\n",
       "    <tr>\n",
       "      <th>2</th>\n",
       "      <td>besar</td>\n",
       "      <td>3</td>\n",
       "    </tr>\n",
       "    <tr>\n",
       "      <th>5</th>\n",
       "      <td>lama</td>\n",
       "      <td>3</td>\n",
       "    </tr>\n",
       "    <tr>\n",
       "      <th>7</th>\n",
       "      <td>malang</td>\n",
       "      <td>2</td>\n",
       "    </tr>\n",
       "    <tr>\n",
       "      <th>8</th>\n",
       "      <td>muda</td>\n",
       "      <td>2</td>\n",
       "    </tr>\n",
       "    <tr>\n",
       "      <th>13</th>\n",
       "      <td>top</td>\n",
       "      <td>2</td>\n",
       "    </tr>\n",
       "    <tr>\n",
       "      <th>1</th>\n",
       "      <td>bermanfaat</td>\n",
       "      <td>1</td>\n",
       "    </tr>\n",
       "    <tr>\n",
       "      <th>3</th>\n",
       "      <td>jarak</td>\n",
       "      <td>1</td>\n",
       "    </tr>\n",
       "    <tr>\n",
       "      <th>9</th>\n",
       "      <td>penghargaan</td>\n",
       "      <td>1</td>\n",
       "    </tr>\n",
       "    <tr>\n",
       "      <th>10</th>\n",
       "      <td>potensi</td>\n",
       "      <td>1</td>\n",
       "    </tr>\n",
       "    <tr>\n",
       "      <th>11</th>\n",
       "      <td>reputasi</td>\n",
       "      <td>1</td>\n",
       "    </tr>\n",
       "  </tbody>\n",
       "</table>\n",
       "</div>"
      ],
      "text/plain": [
       "           Word  No\n",
       "4         keren  29\n",
       "12         seru  11\n",
       "0         bagus   4\n",
       "6          lucu   4\n",
       "2         besar   3\n",
       "5          lama   3\n",
       "7        malang   2\n",
       "8          muda   2\n",
       "13          top   2\n",
       "1    bermanfaat   1\n",
       "3         jarak   1\n",
       "9   penghargaan   1\n",
       "10      potensi   1\n",
       "11     reputasi   1"
      ]
     },
     "execution_count": 42,
     "metadata": {},
     "output_type": "execute_result"
    }
   ],
   "source": [
    "dd_total = pd.DataFrame(str_not_null.split())\n",
    "dd_total.reset_index(inplace=True)\n",
    "dd_total.columns = ['No','Word']\n",
    "dd_total['Word'] = dd_total['Word'].str.lower()\n",
    "\n",
    "dd_Agg = pd.DataFrame(dd_total.groupby('Word').count()['No']).reset_index()\n",
    "dd_Agg = dd_Agg.sort_values('No',ascending=False)\n",
    "dd_Agg"
   ]
  },
  {
   "cell_type": "markdown",
   "metadata": {},
   "source": [
    "# Bigram"
   ]
  },
  {
   "cell_type": "code",
   "execution_count": 48,
   "metadata": {},
   "outputs": [],
   "source": [
    "## menentukan kata yang ingin dijadikan bigram\n",
    "top_unigram = list(df_Agg.head(30)['Word'])"
   ]
  },
  {
   "cell_type": "code",
   "execution_count": 45,
   "metadata": {},
   "outputs": [],
   "source": [
    "## Cleaning Data\n",
    "text2 = []\n",
    "for k in tweet:\n",
    "    rs_split = k.split()\n",
    "    rs_lower = [k.lower() for k in rs_split]\n",
    "    rs_remove_characters = [re.sub(r'[^\\w]', '', k) for k in rs_lower]\n",
    "    rs_remove_stopword = [k for k in rs_remove_characters if k not in stopword]\n",
    "    rs_concat = \" \".join(rs_remove_stopword)\n",
    "    text2.append(rs_concat)"
   ]
  },
  {
   "cell_type": "code",
   "execution_count": 46,
   "metadata": {},
   "outputs": [],
   "source": [
    "## Fungsi untuk mendapatkan pasangan kata dengan sebelumnya\n",
    "def getBigramBefore(text0,top_unigram):\n",
    "    text = text0.split()\n",
    "    bigram = []\n",
    "    for k in range(len(text)):\n",
    "        for j in range(len(top_unigram)):\n",
    "            if text[k] == top_unigram[j]:\n",
    "                try:\n",
    "                    res = text[k-1] + ' ' + text[k]\n",
    "                except:\n",
    "                    res = text[k] \n",
    "\n",
    "                bigram.append(res)\n",
    "            \n",
    "    return bigram"
   ]
  },
  {
   "cell_type": "code",
   "execution_count": 49,
   "metadata": {},
   "outputs": [],
   "source": [
    "## Mendapatkan pasangan kata\n",
    "bigram_before = []\n",
    "for k in text2:\n",
    "    rs = getBigramBefore(k,top_unigram)\n",
    "    if len(rs) >= 1:\n",
    "        bigram_before.append(rs)"
   ]
  },
  {
   "cell_type": "code",
   "execution_count": 56,
   "metadata": {},
   "outputs": [],
   "source": [
    "## Menjadikan bigram menjadi satu list agar bisa dibuat dataframe agar bisa di groupby\n",
    "ls_bigram = []\n",
    "for k in bigram_before:\n",
    "    ls_bigram = ls_bigram + k"
   ]
  },
  {
   "cell_type": "code",
   "execution_count": 58,
   "metadata": {},
   "outputs": [],
   "source": [
    "df_bigram = pd.DataFrame(ls_bigram)"
   ]
  },
  {
   "cell_type": "code",
   "execution_count": 60,
   "metadata": {},
   "outputs": [],
   "source": [
    "df_bigram.reset_index(inplace=True)"
   ]
  },
  {
   "cell_type": "code",
   "execution_count": 62,
   "metadata": {},
   "outputs": [],
   "source": [
    "df_bigram.columns = ['No','Bigram']"
   ]
  },
  {
   "cell_type": "code",
   "execution_count": 76,
   "metadata": {},
   "outputs": [
    {
     "data": {
      "text/html": [
       "<div>\n",
       "<style scoped>\n",
       "    .dataframe tbody tr th:only-of-type {\n",
       "        vertical-align: middle;\n",
       "    }\n",
       "\n",
       "    .dataframe tbody tr th {\n",
       "        vertical-align: top;\n",
       "    }\n",
       "\n",
       "    .dataframe thead th {\n",
       "        text-align: right;\n",
       "    }\n",
       "</style>\n",
       "<table border=\"1\" class=\"dataframe\">\n",
       "  <thead>\n",
       "    <tr style=\"text-align: right;\">\n",
       "      <th></th>\n",
       "      <th>No</th>\n",
       "      <th>Bigram</th>\n",
       "    </tr>\n",
       "  </thead>\n",
       "  <tbody>\n",
       "    <tr>\n",
       "      <th>0</th>\n",
       "      <td>0</td>\n",
       "      <td>nih trans7</td>\n",
       "    </tr>\n",
       "    <tr>\n",
       "      <th>1</th>\n",
       "      <td>1</td>\n",
       "      <td>trans7 hitam</td>\n",
       "    </tr>\n",
       "    <tr>\n",
       "      <th>2</th>\n",
       "      <td>2</td>\n",
       "      <td>hitam putih</td>\n",
       "    </tr>\n",
       "    <tr>\n",
       "      <th>3</th>\n",
       "      <td>3</td>\n",
       "      <td>asiknya nonton</td>\n",
       "    </tr>\n",
       "    <tr>\n",
       "      <th>4</th>\n",
       "      <td>4</td>\n",
       "      <td>nonton hitam</td>\n",
       "    </tr>\n",
       "    <tr>\n",
       "      <th>...</th>\n",
       "      <td>...</td>\n",
       "      <td>...</td>\n",
       "    </tr>\n",
       "    <tr>\n",
       "      <th>885</th>\n",
       "      <td>885</td>\n",
       "      <td>jawab aja</td>\n",
       "    </tr>\n",
       "    <tr>\n",
       "      <th>886</th>\n",
       "      <td>886</td>\n",
       "      <td>aja ga</td>\n",
       "    </tr>\n",
       "    <tr>\n",
       "      <th>887</th>\n",
       "      <td>887</td>\n",
       "      <td>muter2 ga</td>\n",
       "    </tr>\n",
       "    <tr>\n",
       "      <th>888</th>\n",
       "      <td>888</td>\n",
       "      <td>waktu ga</td>\n",
       "    </tr>\n",
       "    <tr>\n",
       "      <th>889</th>\n",
       "      <td>889</td>\n",
       "      <td>mutu matanajwametrotv</td>\n",
       "    </tr>\n",
       "  </tbody>\n",
       "</table>\n",
       "<p>890 rows × 2 columns</p>\n",
       "</div>"
      ],
      "text/plain": [
       "      No                 Bigram\n",
       "0      0             nih trans7\n",
       "1      1           trans7 hitam\n",
       "2      2            hitam putih\n",
       "3      3         asiknya nonton\n",
       "4      4           nonton hitam\n",
       "..   ...                    ...\n",
       "885  885              jawab aja\n",
       "886  886                 aja ga\n",
       "887  887              muter2 ga\n",
       "888  888               waktu ga\n",
       "889  889  mutu matanajwametrotv\n",
       "\n",
       "[890 rows x 2 columns]"
      ]
     },
     "execution_count": 76,
     "metadata": {},
     "output_type": "execute_result"
    }
   ],
   "source": [
    "df_bigram"
   ]
  },
  {
   "cell_type": "code",
   "execution_count": 73,
   "metadata": {},
   "outputs": [],
   "source": [
    "## Menghitung bigram yang paling tinggi frekuensinya\n",
    "dfAggBigram = df_bigram.groupby('Bigram').count().reset_index()\n",
    "dfAggBigram.columns = ['Bigram','Frekuensi']\n",
    "dfAggBigram = dfAggBigram.sort_values('Frekuensi',ascending=False)"
   ]
  },
  {
   "cell_type": "code",
   "execution_count": 74,
   "metadata": {},
   "outputs": [
    {
     "data": {
      "text/html": [
       "<div>\n",
       "<style scoped>\n",
       "    .dataframe tbody tr th:only-of-type {\n",
       "        vertical-align: middle;\n",
       "    }\n",
       "\n",
       "    .dataframe tbody tr th {\n",
       "        vertical-align: top;\n",
       "    }\n",
       "\n",
       "    .dataframe thead th {\n",
       "        text-align: right;\n",
       "    }\n",
       "</style>\n",
       "<table border=\"1\" class=\"dataframe\">\n",
       "  <thead>\n",
       "    <tr style=\"text-align: right;\">\n",
       "      <th></th>\n",
       "      <th>Bigram</th>\n",
       "      <th>Frekuensi</th>\n",
       "    </tr>\n",
       "  </thead>\n",
       "  <tbody>\n",
       "    <tr>\n",
       "      <th>358</th>\n",
       "      <td>mata najwa</td>\n",
       "      <td>59</td>\n",
       "    </tr>\n",
       "    <tr>\n",
       "      <th>188</th>\n",
       "      <td>hitam putih</td>\n",
       "      <td>37</td>\n",
       "    </tr>\n",
       "    <tr>\n",
       "      <th>409</th>\n",
       "      <td>metro tv</td>\n",
       "      <td>18</td>\n",
       "    </tr>\n",
       "    <tr>\n",
       "      <th>531</th>\n",
       "      <td>putih trans7</td>\n",
       "      <td>13</td>\n",
       "    </tr>\n",
       "    <tr>\n",
       "      <th>5</th>\n",
       "      <td>acara mata</td>\n",
       "      <td>9</td>\n",
       "    </tr>\n",
       "    <tr>\n",
       "      <th>...</th>\n",
       "      <td>...</td>\n",
       "      <td>...</td>\n",
       "    </tr>\n",
       "    <tr>\n",
       "      <th>235</th>\n",
       "      <td>inspirasi indonesia</td>\n",
       "      <td>1</td>\n",
       "    </tr>\n",
       "    <tr>\n",
       "      <th>236</th>\n",
       "      <td>inspirasi matanajwametrotv</td>\n",
       "      <td>1</td>\n",
       "    </tr>\n",
       "    <tr>\n",
       "      <th>237</th>\n",
       "      <td>inspiratif banget</td>\n",
       "      <td>1</td>\n",
       "    </tr>\n",
       "    <tr>\n",
       "      <th>238</th>\n",
       "      <td>inspiratif mata</td>\n",
       "      <td>1</td>\n",
       "    </tr>\n",
       "    <tr>\n",
       "      <th>661</th>\n",
       "      <td>zhonk kickandymetrotv</td>\n",
       "      <td>1</td>\n",
       "    </tr>\n",
       "  </tbody>\n",
       "</table>\n",
       "<p>662 rows × 2 columns</p>\n",
       "</div>"
      ],
      "text/plain": [
       "                         Bigram  Frekuensi\n",
       "358                  mata najwa         59\n",
       "188                 hitam putih         37\n",
       "409                    metro tv         18\n",
       "531                putih trans7         13\n",
       "5                    acara mata          9\n",
       "..                          ...        ...\n",
       "235         inspirasi indonesia          1\n",
       "236  inspirasi matanajwametrotv          1\n",
       "237           inspiratif banget          1\n",
       "238             inspiratif mata          1\n",
       "661       zhonk kickandymetrotv          1\n",
       "\n",
       "[662 rows x 2 columns]"
      ]
     },
     "execution_count": 74,
     "metadata": {},
     "output_type": "execute_result"
    }
   ],
   "source": [
    "dfAggBigram"
   ]
  },
  {
   "cell_type": "code",
   "execution_count": null,
   "metadata": {},
   "outputs": [],
   "source": []
  }
 ],
 "metadata": {
  "kernelspec": {
   "display_name": "Python 3",
   "language": "python",
   "name": "python3"
  },
  "language_info": {
   "codemirror_mode": {
    "name": "ipython",
    "version": 3
   },
   "file_extension": ".py",
   "mimetype": "text/x-python",
   "name": "python",
   "nbconvert_exporter": "python",
   "pygments_lexer": "ipython3",
   "version": "3.8.5"
  }
 },
 "nbformat": 4,
 "nbformat_minor": 4
}
